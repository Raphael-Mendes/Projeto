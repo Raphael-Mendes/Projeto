{
 "cells": [
  {
   "cell_type": "code",
   "execution_count": null,
   "metadata": {},
   "outputs": [],
   "source": [
    "import pandas as pd\n",
    "from sklearn.model_selection import train_test_split\n",
    "import pandas as pd\n",
    "import os\n",
    "import numpy as np\n",
    "from matplotlib import pyplot as plt\n",
    "import tensorflow as tf\n",
    "from tensorflow.keras import optimizers\n",
    "from datetime import datetime"
   ]
  },
  {
   "cell_type": "code",
   "execution_count": null,
   "metadata": {},
   "outputs": [],
   "source": [
    "dataset = pd.read_csv('GrandesLabels.csv')"
   ]
  },
  {
   "cell_type": "code",
   "execution_count": null,
   "metadata": {},
   "outputs": [],
   "source": [
    "dataset.loc[dataset['atividade'].isin(['B', 'C']), 'atividade'] = 'A' #Participante se movimentando\n",
    "dataset.loc[dataset[\"atividade\"].isin(['D', 'E']), 'atividade'] = 'B'#Participante parado\n",
    "dataset.loc[dataset['atividade'].isin(['F', 'G', 'S', 'R', 'Q']), 'atividade'] = 'C' #participante realizando atividades diárias\n",
    "dataset.loc[dataset['atividade'].isin(['H', 'I', 'J', 'K', 'L']), 'atividade'] = 'D' #Participante se alimentando\n",
    "dataset.loc[dataset['atividade'].isin(['M', 'P', 'O']), 'atividade'] = 'E' #Participante realizando esportes"
   ]
  },
  {
   "cell_type": "code",
   "execution_count": null,
   "metadata": {},
   "outputs": [],
   "source": [
    "dataset['atividade'].value_counts()"
   ]
  },
  {
   "cell_type": "code",
   "execution_count": null,
   "metadata": {},
   "outputs": [],
   "source": [
    "letras = ['A','B','C','D','E']\n",
    "for i in range(5):\n",
    "    dataset.replace({letras[i]:i}, inplace=True)\n",
    "dataset[\"atividade\"] = pd.to_numeric(dataset[\"atividade\"], errors='coerce')\n",
    "dataset = pd.get_dummies(dataset, columns=['atividade'])"
   ]
  },
  {
   "cell_type": "code",
   "execution_count": null,
   "metadata": {},
   "outputs": [],
   "source": [
    "dataset"
   ]
  }
 ],
 "metadata": {
  "language_info": {
   "name": "python"
  }
 },
 "nbformat": 4,
 "nbformat_minor": 2
}
