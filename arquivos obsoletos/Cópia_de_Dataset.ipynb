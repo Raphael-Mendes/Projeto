{
  "cells": [
    {
      "cell_type": "code",
      "execution_count": 1,
      "metadata": {
        "id": "sZh97Saecvdg"
      },
      "outputs": [],
      "source": [
        "import pandas as pd\n",
        "import os\n",
        "import numpy as np\n",
        "from matplotlib import pyplot as plt\n",
        "import torch\n",
        "from torch import nn\n",
        "import tensorflow as tf"
      ]
    },
    {
      "cell_type": "code",
      "execution_count": 58,
      "metadata": {
        "id": "ciNLc_-JDxK-"
      },
      "outputs": [],
      "source": [
        "#Importando dataset Acelerômetro\n",
        "caminho = \"SmartWatch/accel/\"\n",
        "arquivos = [arquivo for arquivo in os.listdir(caminho) if arquivo.endswith('.txt')]\n",
        "accl = []\n",
        "for i in arquivos:\n",
        "  acc = pd.read_table(caminho+i, header=None, sep=\",\")\n",
        "  accl.append(acc)\n",
        "accel = pd.concat(accl, ignore_index=True)\n",
        "accel.columns = ['pessoa', 'atividade', 'timestamp', 'x', 'y', 'z']\n",
        "accel = accel.sort_values(by=['pessoa', 'atividade'])\n",
        "accel = accel.reset_index(drop=True)\n",
        "accel['z'] = accel['z'].replace(';', '', regex=True)\n",
        "accel['z'] = accel['z'].str.strip()\n",
        "accel['z'] = accel['z'].astype(float)"
      ]
    },
    {
      "cell_type": "code",
      "execution_count": 59,
      "metadata": {
        "id": "sIN8iqLXK2ec"
      },
      "outputs": [],
      "source": [
        "#Importando dataset Giroscópio\n",
        "caminho = \"SmartWatch/gyro/\"\n",
        "arquivos = [arquivo for arquivo in os.listdir(caminho) if arquivo.endswith('.txt')]\n",
        "g = []\n",
        "for i in arquivos:\n",
        "  giro = pd.read_table(caminho+i, header=None, sep=\",\")\n",
        "  g.append(giro)\n",
        "giro = pd.concat(g, ignore_index=True)\n",
        "giro.columns = ['pessoa', 'atividade', 'timestamp', 'x', 'y', 'z']\n",
        "giro = giro.sort_values(by=['pessoa', 'atividade'])\n",
        "giro = giro.reset_index(drop=True)\n",
        "giro['z'] = giro['z'].replace(';', '', regex=True)\n",
        "giro['z'] = giro['z'].str.strip()\n",
        "giro['z'] = giro['z'].astype(float)"
      ]
    },
    {
      "cell_type": "code",
      "execution_count": 60,
      "metadata": {
        "colab": {
          "base_uri": "https://localhost:8080/",
          "height": 210
        },
        "id": "8YYtmbe6sVn6",
        "outputId": "1cb40527-8bfe-4b29-c89b-6fb13824f297"
      },
      "outputs": [],
      "source": [
        "\n",
        "def aceleracao_total(x, y, z):\n",
        "  t = (y**2 + x**2 + z**2)**0.5\n",
        "  return t\n",
        "def giro_total(x,y,z, x1, y1, z1):\n",
        "  t = ((x**2)+(x1**2) - 2*x*x1*(np.sin(y)*np.sin(y1)*np.cos((z-z1))+np.cos(y)*np.cos(y1)))**0.5\n",
        "  return t"
      ]
    },
    {
      "cell_type": "code",
      "execution_count": 62,
      "metadata": {
        "id": "5zUxO9OrjzbV"
      },
      "outputs": [],
      "source": [
        "def transacc(x):\n",
        "  for j in range(0, 1200, 20):\n",
        "    valor = 0;\n",
        "    for i in range(0, 20, 1):\n",
        "      valor = valor + aceleracao_total(x.iloc[j+i, 3], x.iloc[(j+i), 4], x.iloc[(j+i), 5])\n",
        "    dadospa.append(valor)\n",
        "    atividade.append(x.iloc[j+i, 1])\n",
        "\n",
        "def transgiro(x):\n",
        "  for j in range(0, 1200, 20):\n",
        "    valor= 0;\n",
        "    for i in range(0,19,1):\n",
        "      valor = valor + giro_total(x.iloc[(j+i),3], x.iloc[(j+i),4], x.iloc[(j+i),5], x.iloc[(j+i+1),3], x.iloc[(j+i+1),4], x.iloc[(j+i+1),5])\n",
        "    dadospg.append(valor)"
      ]
    },
    {
      "cell_type": "code",
      "execution_count": 63,
      "metadata": {
        "colab": {
          "base_uri": "https://localhost:8080/"
        },
        "id": "u5kpCZU1j6eL",
        "outputId": "d6e59a70-88b5-4a92-cc82-6ceecf5dfb99"
      },
      "outputs": [
        {
          "name": "stderr",
          "output_type": "stream",
          "text": [
            "C:\\Users\\midiacom\\AppData\\Local\\Temp\\ipykernel_7176\\2909828199.py:5: RuntimeWarning: invalid value encountered in double_scalars\n",
            "  t = ((x**2)+(x1**2) - 2*x*x1*(np.sin(y)*np.sin(y1)*np.cos((z-z1))+np.cos(y)*np.cos(y1)))**0.5\n"
          ]
        }
      ],
      "source": [
        "dadospa = []\n",
        "dadospg = []\n",
        "atividade = []\n",
        "for i in range(1200,len(giro), 1200):\n",
        "  transacc(accel[(i-1200):i])\n",
        "  transgiro(giro[(i-1200):i])"
      ]
    },
    {
      "cell_type": "code",
      "execution_count": null,
      "metadata": {},
      "outputs": [
        {
          "name": "stdout",
          "output_type": "stream",
          "text": [
            "171960\n",
            "171960\n",
            "171960\n",
            "2866.0\n"
          ]
        }
      ],
      "source": [
        "print(len(dadospa))\n",
        "print(len(dadospg))\n",
        "print(len(atividade))\n",
        "print(171960/60)"
      ]
    },
    {
      "cell_type": "code",
      "execution_count": null,
      "metadata": {
        "id": "N5DECwwPnigo"
      },
      "outputs": [],
      "source": [
        "df = pd.DataFrame({'pessoa': np.repeat(np.arange(1, 2867), 60), 'tempo': np.tile(np.arange(1,61), 2866), 'atividade': atividade, 'acelerômetro': dadospa, 'giroscópio': dadospg})"
      ]
    },
    {
      "cell_type": "code",
      "execution_count": null,
      "metadata": {
        "id": "hIxLqbuFndTH"
      },
      "outputs": [
        {
          "data": {
            "text/plain": [
              "21.303119807324062"
            ]
          },
          "execution_count": 34,
          "metadata": {},
          "output_type": "execute_result"
        }
      ],
      "source": [
        "parc_data_train = 0.8\n",
        "andando = df.loc[df['atividade'] == 'A']\n",
        "split = int(len(andando)*parc_data_train)\n",
        "train_andando = andando[:split]\n",
        "teste_andando = andando[split:]\n",
        "parado = df.loc[df['atividade'] == 'D']\n",
        "split = int(len(parado)*parc_data_train)\n",
        "train_parado = parado[:split]\n",
        "teste_parado = parado[split:]\n",
        "treino = pd.concat([train_andando, train_parado])\n",
        "teste = pd.concat([teste_andando, teste_parado])\n",
        "label = treino['atividade']\n",
        "label = label.replace({'A': 0, 'D': 1})\n",
        "treino = treino[['acelerômetro', 'giroscópio']].values"
      ]
    },
    {
      "cell_type": "code",
      "execution_count": 24,
      "metadata": {
        "id": "plprJAZeILdg"
      },
      "outputs": [],
      "source": [
        "Npred = 2\n",
        "Npontos = 60\n",
        "#Pessoas 257\n",
        "#Tempo de dados 60\n",
        "#features 2"
      ]
    },
    {
      "cell_type": "code",
      "execution_count": 27,
      "metadata": {
        "colab": {
          "base_uri": "https://localhost:8080/"
        },
        "id": "7VerNt0325nv",
        "outputId": "51ed0bae-e840-4e8e-d251-1043469ab812"
      },
      "outputs": [
        {
          "name": "stdout",
          "output_type": "stream",
          "text": [
            "trainX.shape=  (257, 58, 2)\n",
            "trainY.shape=  (257, 58, 1)\n"
          ]
        }
      ],
      "source": [
        "def cria_IN_OUT(data, janela, features):\n",
        "    OUT_indices = np.arange(janela, len(data), janela)\n",
        "    OUT = data[OUT_indices]\n",
        "    IN = data[range(janela*len(OUT))]\n",
        "    IN = np.reshape(IN, (len(OUT), janela, features))\n",
        "    IN_final = IN[:,:-Npred,:]\n",
        "    return IN_final\n",
        "trainX = cria_IN_OUT(treino, Npontos, 2)\n",
        "trainY = cria_IN_OUT(label, Npontos, 1)\n",
        "print('trainX.shape= ',trainX.shape)\n",
        "print('trainY.shape= ',trainY.shape)"
      ]
    },
    {
      "cell_type": "code",
      "execution_count": 37,
      "metadata": {
        "id": "O54zjcVZQJFP"
      },
      "outputs": [],
      "source": [
        "def cria_LSTM(hidden_units, dense_units, input_shape, activation):\n",
        "  model = tf.keras.Sequential()\n",
        "  model.add(tf.keras.layers.LSTM(hidden_units, input_shape=input_shape,activation=activation[0], return_sequences=True))\n",
        "  model.add(tf.keras.layers.Dense(units=dense_units, activation=activation[1]))\n",
        "  model.compile(loss='mean_squared_error', optimizer = 'adam')\n",
        "  return model"
      ]
    },
    {
      "cell_type": "code",
      "execution_count": 38,
      "metadata": {
        "colab": {
          "base_uri": "https://localhost:8080/",
          "height": 621
        },
        "id": "fzPgSeTTU0sc",
        "outputId": "53ad0d61-67a3-4d2d-da76-d2600173ec4e"
      },
      "outputs": [
        {
          "name": "stdout",
          "output_type": "stream",
          "text": [
            "Epoch 1/5\n",
            "257/257 [==============================] - 1s 4ms/step - loss: nan\n",
            "Epoch 2/5\n",
            "257/257 [==============================] - 1s 4ms/step - loss: nan\n",
            "Epoch 3/5\n",
            "257/257 [==============================] - 1s 4ms/step - loss: nan\n",
            "Epoch 4/5\n",
            "257/257 [==============================] - 1s 4ms/step - loss: nan\n",
            "Epoch 5/5\n",
            "257/257 [==============================] - 1s 4ms/step - loss: nan\n"
          ]
        },
        {
          "data": {
            "text/plain": [
              "<matplotlib.legend.Legend at 0x29b9e433eb0>"
            ]
          },
          "execution_count": 38,
          "metadata": {},
          "output_type": "execute_result"
        },
        {
          "data": {
            "image/png": "[encoded data removed]",
            "text/plain": [
              "<Figure size 640x480 with 1 Axes>"
            ]
          },
          "metadata": {},
          "output_type": "display_data"
        }
      ],
      "source": [
        "model = cria_LSTM(hidden_units=15, dense_units=1, input_shape=(58,2), activation=['relu', 'softmax'])\n",
        "history = model.fit(trainX, trainY, epochs = 5, batch_size = 1, verbose = 1)\n",
        "plt.figure()\n",
        "plt.plot(history.history['loss'], 'k')\n",
        "plt.yscale('log')\n",
        "plt.legend(['loss'])"
      ]
    },
    {
      "cell_type": "code",
      "execution_count": null,
      "metadata": {
        "colab": {
          "base_uri": "https://localhost:8080/"
        },
        "id": "evC6JaijOiY3",
        "outputId": "488841f3-9986-4423-c385-60b418b98394"
      },
      "outputs": [
        {
          "data": {
            "text/plain": [
              "(257, 58, 2)"
            ]
          },
          "execution_count": 22,
          "metadata": {},
          "output_type": "execute_result"
        }
      ],
      "source": [
        "trainX.shape"
      ]
    },
    {
      "cell_type": "code",
      "execution_count": null,
      "metadata": {
        "colab": {
          "base_uri": "https://localhost:8080/"
        },
        "id": "Hu36JVQb02D3",
        "outputId": "371113fd-48ca-44ca-e8c6-f72f0fa6ec00"
      },
      "outputs": [
        {
          "data": {
            "text/plain": [
              "array([[209.9318519 ,  21.30311981],\n",
              "       [236.92622194,  31.30303744],\n",
              "       [253.33386419,  22.34932392],\n",
              "       [261.15235504,  20.90198465],\n",
              "       [251.23700941,  16.62793258],\n",
              "       [270.83385877,  40.81177327],\n",
              "       [274.14030852,  30.28345784],\n",
              "       [269.33962288,  35.37033204],\n",
              "       [275.74498536,  47.00274965],\n",
              "       [253.01608968,  35.42401871],\n",
              "       [254.26885817,  31.53510289],\n",
              "       [271.32336999,  46.15698956],\n",
              "       [266.86570303,  78.45061525],\n",
              "       [258.45332376,  31.58953862],\n",
              "       [262.053744  ,  51.18480045],\n",
              "       [264.75444718,  56.13645815],\n",
              "       [241.3095112 ,  21.49117987],\n",
              "       [242.40024031,  33.38847681],\n",
              "       [253.35628159,  49.58040106],\n",
              "       [259.45656762,  28.28419103],\n",
              "       [260.59331629,  32.99943281],\n",
              "       [259.54199448,  27.93436066],\n",
              "       [261.72751466,  53.24205455],\n",
              "       [254.24062   ,  33.30887879],\n",
              "       [248.35704068,  18.90402118],\n",
              "       [238.07565044,  28.48787856],\n",
              "       [252.23128342,  57.84191093],\n",
              "       [255.01448661,  27.36365235],\n",
              "       [243.37596034,  23.54682067],\n",
              "       [245.82129875,  21.53581171],\n",
              "       [229.69229786,  18.56746543],\n",
              "       [247.90137453,  52.86403752],\n",
              "       [239.57130891,  29.95152717],\n",
              "       [253.79015263,  33.29196447],\n",
              "       [250.66328578,  45.08515454],\n",
              "       [253.53843703,  36.38913185],\n",
              "       [258.13172771,  32.48722212],\n",
              "       [250.99347857,  25.08637734],\n",
              "       [242.83931012,  21.34633734],\n",
              "       [243.3040311 ,  17.86475219],\n",
              "       [218.89332675,  19.76549128],\n",
              "       [231.95024404,  14.95683619],\n",
              "       [245.09214263,  17.37848043],\n",
              "       [260.66418987,  26.89129098],\n",
              "       [267.01186315,  24.78905579],\n",
              "       [256.84396553,  24.83587467],\n",
              "       [247.38315019,  27.48239964],\n",
              "       [239.50732558,  20.39503473],\n",
              "       [257.63444979,  44.6037668 ],\n",
              "       [258.37065964,  17.70438294],\n",
              "       [246.19206605,  22.14570337],\n",
              "       [218.80133144,  12.61928279],\n",
              "       [208.27773603,  37.68788181],\n",
              "       [234.83532344,  20.59420478],\n",
              "       [250.96345721,  39.52890508],\n",
              "       [243.78475129,  16.45209152],\n",
              "       [258.59189926,  51.72042207],\n",
              "       [252.46780375,  55.12306562]])"
            ]
          },
          "execution_count": 34,
          "metadata": {},
          "output_type": "execute_result"
        }
      ],
      "source": [
        "trainX[0]"
      ]
    },
    {
      "cell_type": "code",
      "execution_count": null,
      "metadata": {
        "colab": {
          "base_uri": "https://localhost:8080/",
          "height": 424
        },
        "id": "ZPtvOVWq3hqR",
        "outputId": "faeec7b5-d0cf-49f1-b739-0c91ca34293f"
      },
      "outputs": [
        {
          "data": {
            "text/html": [
              "\n",
              "  <div id=\"df-a3f37663-39d3-464b-aca9-167525cb704e\" class=\"colab-df-container\">\n",
              "    <div>\n",
              "<style scoped>\n",
              "    .dataframe tbody tr th:only-of-type {\n",
              "        vertical-align: middle;\n",
              "    }\n",
              "\n",
              "    .dataframe tbody tr th {\n",
              "        vertical-align: top;\n",
              "    }\n",
              "\n",
              "    .dataframe thead th {\n",
              "        text-align: right;\n",
              "    }\n",
              "</style>\n",
              "<table border=\"1\" class=\"dataframe\">\n",
              "  <thead>\n",
              "    <tr style=\"text-align: right;\">\n",
              "      <th></th>\n",
              "      <th>pessoa</th>\n",
              "      <th>tempo</th>\n",
              "      <th>atividade</th>\n",
              "      <th>acelerômetro</th>\n",
              "      <th>giroscópio</th>\n",
              "    </tr>\n",
              "  </thead>\n",
              "  <tbody>\n",
              "    <tr>\n",
              "      <th>0</th>\n",
              "      <td>1</td>\n",
              "      <td>1</td>\n",
              "      <td>A</td>\n",
              "      <td>209.931852</td>\n",
              "      <td>21.303120</td>\n",
              "    </tr>\n",
              "    <tr>\n",
              "      <th>1</th>\n",
              "      <td>1</td>\n",
              "      <td>2</td>\n",
              "      <td>A</td>\n",
              "      <td>236.926222</td>\n",
              "      <td>31.303037</td>\n",
              "    </tr>\n",
              "    <tr>\n",
              "      <th>2</th>\n",
              "      <td>1</td>\n",
              "      <td>3</td>\n",
              "      <td>A</td>\n",
              "      <td>253.333864</td>\n",
              "      <td>22.349324</td>\n",
              "    </tr>\n",
              "    <tr>\n",
              "      <th>3</th>\n",
              "      <td>1</td>\n",
              "      <td>4</td>\n",
              "      <td>A</td>\n",
              "      <td>261.152355</td>\n",
              "      <td>20.901985</td>\n",
              "    </tr>\n",
              "    <tr>\n",
              "      <th>4</th>\n",
              "      <td>1</td>\n",
              "      <td>5</td>\n",
              "      <td>A</td>\n",
              "      <td>251.237009</td>\n",
              "      <td>16.627933</td>\n",
              "    </tr>\n",
              "    <tr>\n",
              "      <th>...</th>\n",
              "      <td>...</td>\n",
              "      <td>...</td>\n",
              "      <td>...</td>\n",
              "      <td>...</td>\n",
              "      <td>...</td>\n",
              "    </tr>\n",
              "    <tr>\n",
              "      <th>19315</th>\n",
              "      <td>322</td>\n",
              "      <td>56</td>\n",
              "      <td>A</td>\n",
              "      <td>213.065583</td>\n",
              "      <td>0.099070</td>\n",
              "    </tr>\n",
              "    <tr>\n",
              "      <th>19316</th>\n",
              "      <td>322</td>\n",
              "      <td>57</td>\n",
              "      <td>A</td>\n",
              "      <td>213.725990</td>\n",
              "      <td>0.249282</td>\n",
              "    </tr>\n",
              "    <tr>\n",
              "      <th>19317</th>\n",
              "      <td>322</td>\n",
              "      <td>58</td>\n",
              "      <td>A</td>\n",
              "      <td>229.055799</td>\n",
              "      <td>0.103331</td>\n",
              "    </tr>\n",
              "    <tr>\n",
              "      <th>19318</th>\n",
              "      <td>322</td>\n",
              "      <td>59</td>\n",
              "      <td>A</td>\n",
              "      <td>277.806846</td>\n",
              "      <td>0.199670</td>\n",
              "    </tr>\n",
              "    <tr>\n",
              "      <th>19319</th>\n",
              "      <td>322</td>\n",
              "      <td>60</td>\n",
              "      <td>A</td>\n",
              "      <td>192.397973</td>\n",
              "      <td>0.443145</td>\n",
              "    </tr>\n",
              "  </tbody>\n",
              "</table>\n",
              "<p>19320 rows × 5 columns</p>\n",
              "</div>\n",
              "    <div class=\"colab-df-buttons\">\n",
              "\n",
              "  <div class=\"colab-df-container\">\n",
              "    <button class=\"colab-df-convert\" onclick=\"convertToInteractive('df-a3f37663-39d3-464b-aca9-167525cb704e')\"\n",
              "            title=\"Convert this dataframe to an interactive table.\"\n",
              "            style=\"display:none;\">\n",
              "\n",
              "  <svg xmlns=\"http://www.w3.org/2000/svg\" height=\"24px\" viewBox=\"0 -960 960 960\">\n",
              "    <path d=\"M120-120v-720h720v720H120Zm60-500h600v-160H180v160Zm220 220h160v-160H400v160Zm0 220h160v-160H400v160ZM180-400h160v-160H180v160Zm440 0h160v-160H620v160ZM180-180h160v-160H180v160Zm440 0h160v-160H620v160Z\"/>\n",
              "  </svg>\n",
              "    </button>\n",
              "\n",
              "  <style>\n",
              "    .colab-df-container {\n",
              "      display:flex;\n",
              "      gap: 12px;\n",
              "    }\n",
              "\n",
              "    .colab-df-convert {\n",
              "      background-color: #E8F0FE;\n",
              "      border: none;\n",
              "      border-radius: 50%;\n",
              "      cursor: pointer;\n",
              "      display: none;\n",
              "      fill: #1967D2;\n",
              "      height: 32px;\n",
              "      padding: 0 0 0 0;\n",
              "      width: 32px;\n",
              "    }\n",
              "\n",
              "    .colab-df-convert:hover {\n",
              "      background-color: #E2EBFA;\n",
              "      box-shadow: 0px 1px 2px rgba(60, 64, 67, 0.3), 0px 1px 3px 1px rgba(60, 64, 67, 0.15);\n",
              "      fill: #174EA6;\n",
              "    }\n",
              "\n",
              "    .colab-df-buttons div {\n",
              "      margin-bottom: 4px;\n",
              "    }\n",
              "\n",
              "    [theme=dark] .colab-df-convert {\n",
              "      background-color: #3B4455;\n",
              "      fill: #D2E3FC;\n",
              "    }\n",
              "\n",
              "    [theme=dark] .colab-df-convert:hover {\n",
              "      background-color: #434B5C;\n",
              "      box-shadow: 0px 1px 3px 1px rgba(0, 0, 0, 0.15);\n",
              "      filter: drop-shadow(0px 1px 2px rgba(0, 0, 0, 0.3));\n",
              "      fill: #FFFFFF;\n",
              "    }\n",
              "  </style>\n",
              "\n",
              "    <script>\n",
              "      const buttonEl =\n",
              "        document.querySelector('#df-a3f37663-39d3-464b-aca9-167525cb704e button.colab-df-convert');\n",
              "      buttonEl.style.display =\n",
              "        google.colab.kernel.accessAllowed ? 'block' : 'none';\n",
              "\n",
              "      async function convertToInteractive(key) {\n",
              "        const element = document.querySelector('#df-a3f37663-39d3-464b-aca9-167525cb704e');\n",
              "        const dataTable =\n",
              "          await google.colab.kernel.invokeFunction('convertToInteractive',\n",
              "                                                    [key], {});\n",
              "        if (!dataTable) return;\n",
              "\n",
              "        const docLinkHtml = 'Like what you see? Visit the ' +\n",
              "          '<a target=\"_blank\" href=https://colab.research.google.com/notebooks/data_table.ipynb>data table notebook</a>'\n",
              "          + ' to learn more about interactive tables.';\n",
              "        element.innerHTML = '';\n",
              "        dataTable['output_type'] = 'display_data';\n",
              "        await google.colab.output.renderOutput(dataTable, element);\n",
              "        const docLink = document.createElement('div');\n",
              "        docLink.innerHTML = docLinkHtml;\n",
              "        element.appendChild(docLink);\n",
              "      }\n",
              "    </script>\n",
              "  </div>\n",
              "\n",
              "\n",
              "<div id=\"df-7ba39a52-9911-44f1-bb4f-bdf227cff1b0\">\n",
              "  <button class=\"colab-df-quickchart\" onclick=\"quickchart('df-7ba39a52-9911-44f1-bb4f-bdf227cff1b0')\"\n",
              "            title=\"Suggest charts\"\n",
              "            style=\"display:none;\">\n",
              "\n",
              "<svg xmlns=\"http://www.w3.org/2000/svg\" height=\"24px\"viewBox=\"0 0 24 24\"\n",
              "     width=\"24px\">\n",
              "    <g>\n",
              "        <path d=\"M19 3H5c-1.1 0-2 .9-2 2v14c0 1.1.9 2 2 2h14c1.1 0 2-.9 2-2V5c0-1.1-.9-2-2-2zM9 17H7v-7h2v7zm4 0h-2V7h2v10zm4 0h-2v-4h2v4z\"/>\n",
              "    </g>\n",
              "</svg>\n",
              "  </button>\n",
              "\n",
              "<style>\n",
              "  .colab-df-quickchart {\n",
              "      --bg-color: #E8F0FE;\n",
              "      --fill-color: #1967D2;\n",
              "      --hover-bg-color: #E2EBFA;\n",
              "      --hover-fill-color: #174EA6;\n",
              "      --disabled-fill-color: #AAA;\n",
              "      --disabled-bg-color: #DDD;\n",
              "  }\n",
              "\n",
              "  [theme=dark] .colab-df-quickchart {\n",
              "      --bg-color: #3B4455;\n",
              "      --fill-color: #D2E3FC;\n",
              "      --hover-bg-color: #434B5C;\n",
              "      --hover-fill-color: #FFFFFF;\n",
              "      --disabled-bg-color: #3B4455;\n",
              "      --disabled-fill-color: #666;\n",
              "  }\n",
              "\n",
              "  .colab-df-quickchart {\n",
              "    background-color: var(--bg-color);\n",
              "    border: none;\n",
              "    border-radius: 50%;\n",
              "    cursor: pointer;\n",
              "    display: none;\n",
              "    fill: var(--fill-color);\n",
              "    height: 32px;\n",
              "    padding: 0;\n",
              "    width: 32px;\n",
              "  }\n",
              "\n",
              "  .colab-df-quickchart:hover {\n",
              "    background-color: var(--hover-bg-color);\n",
              "    box-shadow: 0 1px 2px rgba(60, 64, 67, 0.3), 0 1px 3px 1px rgba(60, 64, 67, 0.15);\n",
              "    fill: var(--button-hover-fill-color);\n",
              "  }\n",
              "\n",
              "  .colab-df-quickchart-complete:disabled,\n",
              "  .colab-df-quickchart-complete:disabled:hover {\n",
              "    background-color: var(--disabled-bg-color);\n",
              "    fill: var(--disabled-fill-color);\n",
              "    box-shadow: none;\n",
              "  }\n",
              "\n",
              "  .colab-df-spinner {\n",
              "    border: 2px solid var(--fill-color);\n",
              "    border-color: transparent;\n",
              "    border-bottom-color: var(--fill-color);\n",
              "    animation:\n",
              "      spin 1s steps(1) infinite;\n",
              "  }\n",
              "\n",
              "  @keyframes spin {\n",
              "    0% {\n",
              "      border-color: transparent;\n",
              "      border-bottom-color: var(--fill-color);\n",
              "      border-left-color: var(--fill-color);\n",
              "    }\n",
              "    20% {\n",
              "      border-color: transparent;\n",
              "      border-left-color: var(--fill-color);\n",
              "      border-top-color: var(--fill-color);\n",
              "    }\n",
              "    30% {\n",
              "      border-color: transparent;\n",
              "      border-left-color: var(--fill-color);\n",
              "      border-top-color: var(--fill-color);\n",
              "      border-right-color: var(--fill-color);\n",
              "    }\n",
              "    40% {\n",
              "      border-color: transparent;\n",
              "      border-right-color: var(--fill-color);\n",
              "      border-top-color: var(--fill-color);\n",
              "    }\n",
              "    60% {\n",
              "      border-color: transparent;\n",
              "      border-right-color: var(--fill-color);\n",
              "    }\n",
              "    80% {\n",
              "      border-color: transparent;\n",
              "      border-right-color: var(--fill-color);\n",
              "      border-bottom-color: var(--fill-color);\n",
              "    }\n",
              "    90% {\n",
              "      border-color: transparent;\n",
              "      border-bottom-color: var(--fill-color);\n",
              "    }\n",
              "  }\n",
              "</style>\n",
              "\n",
              "  <script>\n",
              "    async function quickchart(key) {\n",
              "      const quickchartButtonEl =\n",
              "        document.querySelector('#' + key + ' button');\n",
              "      quickchartButtonEl.disabled = true;  // To prevent multiple clicks.\n",
              "      quickchartButtonEl.classList.add('colab-df-spinner');\n",
              "      try {\n",
              "        const charts = await google.colab.kernel.invokeFunction(\n",
              "            'suggestCharts', [key], {});\n",
              "      } catch (error) {\n",
              "        console.error('Error during call to suggestCharts:', error);\n",
              "      }\n",
              "      quickchartButtonEl.classList.remove('colab-df-spinner');\n",
              "      quickchartButtonEl.classList.add('colab-df-quickchart-complete');\n",
              "    }\n",
              "    (() => {\n",
              "      let quickchartButtonEl =\n",
              "        document.querySelector('#df-7ba39a52-9911-44f1-bb4f-bdf227cff1b0 button');\n",
              "      quickchartButtonEl.style.display =\n",
              "        google.colab.kernel.accessAllowed ? 'block' : 'none';\n",
              "    })();\n",
              "  </script>\n",
              "</div>\n",
              "    </div>\n",
              "  </div>\n"
            ],
            "text/plain": [
              "       pessoa  tempo atividade  acelerômetro  giroscópio\n",
              "0           1      1         A    209.931852   21.303120\n",
              "1           1      2         A    236.926222   31.303037\n",
              "2           1      3         A    253.333864   22.349324\n",
              "3           1      4         A    261.152355   20.901985\n",
              "4           1      5         A    251.237009   16.627933\n",
              "...       ...    ...       ...           ...         ...\n",
              "19315     322     56         A    213.065583    0.099070\n",
              "19316     322     57         A    213.725990    0.249282\n",
              "19317     322     58         A    229.055799    0.103331\n",
              "19318     322     59         A    277.806846    0.199670\n",
              "19319     322     60         A    192.397973    0.443145\n",
              "\n",
              "[19320 rows x 5 columns]"
            ]
          },
          "execution_count": 40,
          "metadata": {},
          "output_type": "execute_result"
        }
      ],
      "source": [
        "df"
      ]
    },
    {
      "cell_type": "code",
      "execution_count": null,
      "metadata": {
        "colab": {
          "base_uri": "https://localhost:8080/"
        },
        "id": "MJBwFYAX4d4X",
        "outputId": "18c1956e-0e3f-40cf-81a6-e1c0a75c3c82"
      },
      "outputs": [
        {
          "data": {
            "text/plain": [
              "array([[[2.09931852e+02, 2.13031198e+01],\n",
              "        [2.36926222e+02, 3.13030374e+01],\n",
              "        [2.53333864e+02, 2.23493239e+01],\n",
              "        ...,\n",
              "        [2.43784751e+02, 1.64520915e+01],\n",
              "        [2.58591899e+02, 5.17204221e+01],\n",
              "        [2.52467804e+02, 5.51230656e+01]],\n",
              "\n",
              "       [[2.51710930e+02, 2.68770299e+01],\n",
              "        [2.45590943e+02, 3.13560476e+01],\n",
              "        [2.57390397e+02, 5.55247524e+01],\n",
              "        ...,\n",
              "        [2.48491848e+02, 1.93322104e+01],\n",
              "        [2.50489313e+02, 1.99282614e+01],\n",
              "        [2.55331327e+02, 1.79588161e+01]],\n",
              "\n",
              "       [[2.51227953e+02, 2.29450394e+01],\n",
              "        [2.51176354e+02, 5.52990122e+01],\n",
              "        [2.55845223e+02, 4.31341860e+01],\n",
              "        ...,\n",
              "        [1.99105330e+02, 9.68676797e+00],\n",
              "        [1.95889828e+02, 8.49268484e+00],\n",
              "        [2.13053341e+02, 1.09944780e+01]],\n",
              "\n",
              "       ...,\n",
              "\n",
              "       [[1.89033940e+02, 1.76954439e+01],\n",
              "        [1.89023506e+02, 2.07366215e+01],\n",
              "        [1.89007076e+02, 2.10563470e+01],\n",
              "        ...,\n",
              "        [1.89149472e+02, 2.13987388e+01],\n",
              "        [1.89419896e+02, 1.99793273e+01],\n",
              "        [1.89319512e+02, 2.39358875e+01]],\n",
              "\n",
              "       [[1.89269058e+02, 2.05831516e+01],\n",
              "        [1.89281169e+02, 2.33891615e+01],\n",
              "        [1.89223059e+02, 2.12598769e+01],\n",
              "        ...,\n",
              "        [1.89387892e+02, 1.99391389e+01],\n",
              "        [1.89436933e+02, 2.25711991e+01],\n",
              "        [1.89428264e+02, 1.67663422e+01]],\n",
              "\n",
              "       [[1.89488944e+02, 2.69115519e+01],\n",
              "        [1.89399849e+02, 1.86754013e+01],\n",
              "        [1.89438861e+02, 2.40118376e+01],\n",
              "        ...,\n",
              "        [1.89437798e+02, 1.79085021e-01],\n",
              "        [1.89438786e+02, 3.18240887e-01],\n",
              "        [1.89445189e+02, 8.30945133e-02]]])"
            ]
          },
          "execution_count": 46,
          "metadata": {},
          "output_type": "execute_result"
        }
      ],
      "source": [
        "trainX[0]"
      ]
    },
    {
      "cell_type": "code",
      "execution_count": null,
      "metadata": {
        "id": "anhhJhTHDLQr"
      },
      "outputs": [],
      "source": []
    }
  ],
  "metadata": {
    "colab": {
      "provenance": []
    },
    "kernelspec": {
      "display_name": "Python 3",
      "name": "python3"
    },
    "language_info": {
      "codemirror_mode": {
        "name": "ipython",
        "version": 3
      },
      "file_extension": ".py",
      "mimetype": "text/x-python",
      "name": "python",
      "nbconvert_exporter": "python",
      "pygments_lexer": "ipython3",
      "version": "3.10.9"
    }
  },
  "nbformat": 4,
  "nbformat_minor": 0
}
