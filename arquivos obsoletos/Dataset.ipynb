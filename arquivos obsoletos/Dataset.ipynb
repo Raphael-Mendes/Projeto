{
  "cells": [
    {
      "cell_type": "code",
      "execution_count": 1,
      "metadata": {
        "id": "sZh97Saecvdg"
      },
      "outputs": [],
      "source": [
        "import pandas as pd\n",
        "import os\n",
        "import numpy as np\n",
        "from matplotlib import pyplot as plt\n",
        "import torch\n",
        "from torch import nn\n",
        "import tensorflow as tf"
      ]
    },
    {
      "cell_type": "code",
      "execution_count": 4,
      "metadata": {
        "id": "ciNLc_-JDxK-"
      },
      "outputs": [
        {
          "data": {
            "text/html": [
              "<div>\n",
              "<style scoped>\n",
              "    .dataframe tbody tr th:only-of-type {\n",
              "        vertical-align: middle;\n",
              "    }\n",
              "\n",
              "    .dataframe tbody tr th {\n",
              "        vertical-align: top;\n",
              "    }\n",
              "\n",
              "    .dataframe thead th {\n",
              "        text-align: right;\n",
              "    }\n",
              "</style>\n",
              "<table border=\"1\" class=\"dataframe\">\n",
              "  <thead>\n",
              "    <tr style=\"text-align: right;\">\n",
              "      <th></th>\n",
              "      <th>0</th>\n",
              "      <th>1</th>\n",
              "      <th>2</th>\n",
              "      <th>3</th>\n",
              "      <th>4</th>\n",
              "      <th>5</th>\n",
              "    </tr>\n",
              "  </thead>\n",
              "  <tbody>\n",
              "    <tr>\n",
              "      <th>0</th>\n",
              "      <td>1650</td>\n",
              "      <td>A</td>\n",
              "      <td>2428057133445480</td>\n",
              "      <td>-1.279851</td>\n",
              "      <td>-5.187936</td>\n",
              "      <td>-2.3116016;</td>\n",
              "    </tr>\n",
              "    <tr>\n",
              "      <th>1</th>\n",
              "      <td>1650</td>\n",
              "      <td>A</td>\n",
              "      <td>2428057182945480</td>\n",
              "      <td>-3.302951</td>\n",
              "      <td>-6.823175</td>\n",
              "      <td>-4.011485;</td>\n",
              "    </tr>\n",
              "    <tr>\n",
              "      <th>2</th>\n",
              "      <td>1650</td>\n",
              "      <td>A</td>\n",
              "      <td>2428057232445480</td>\n",
              "      <td>-2.876783</td>\n",
              "      <td>-8.365042</td>\n",
              "      <td>-7.171831;</td>\n",
              "    </tr>\n",
              "    <tr>\n",
              "      <th>3</th>\n",
              "      <td>1650</td>\n",
              "      <td>A</td>\n",
              "      <td>2428057281945480</td>\n",
              "      <td>-2.254291</td>\n",
              "      <td>-8.566154</td>\n",
              "      <td>-8.153454;</td>\n",
              "    </tr>\n",
              "    <tr>\n",
              "      <th>4</th>\n",
              "      <td>1650</td>\n",
              "      <td>A</td>\n",
              "      <td>2428057331445480</td>\n",
              "      <td>-3.264644</td>\n",
              "      <td>-10.953174</td>\n",
              "      <td>-8.826224;</td>\n",
              "    </tr>\n",
              "    <tr>\n",
              "      <th>...</th>\n",
              "      <td>...</td>\n",
              "      <td>...</td>\n",
              "      <td>...</td>\n",
              "      <td>...</td>\n",
              "      <td>...</td>\n",
              "      <td>...</td>\n",
              "    </tr>\n",
              "    <tr>\n",
              "      <th>66587</th>\n",
              "      <td>1650</td>\n",
              "      <td>S</td>\n",
              "      <td>2426184421424592</td>\n",
              "      <td>1.486500</td>\n",
              "      <td>-13.302334</td>\n",
              "      <td>5.355231;</td>\n",
              "    </tr>\n",
              "    <tr>\n",
              "      <th>66588</th>\n",
              "      <td>1650</td>\n",
              "      <td>S</td>\n",
              "      <td>2426184471411932</td>\n",
              "      <td>4.017171</td>\n",
              "      <td>-13.146711</td>\n",
              "      <td>5.1182046;</td>\n",
              "    </tr>\n",
              "    <tr>\n",
              "      <th>66589</th>\n",
              "      <td>1650</td>\n",
              "      <td>S</td>\n",
              "      <td>2426184521399272</td>\n",
              "      <td>4.412214</td>\n",
              "      <td>-15.318253</td>\n",
              "      <td>3.3704374;</td>\n",
              "    </tr>\n",
              "    <tr>\n",
              "      <th>66590</th>\n",
              "      <td>1650</td>\n",
              "      <td>S</td>\n",
              "      <td>2426184571385262</td>\n",
              "      <td>4.426579</td>\n",
              "      <td>-13.012636</td>\n",
              "      <td>2.5755625;</td>\n",
              "    </tr>\n",
              "    <tr>\n",
              "      <th>66591</th>\n",
              "      <td>1650</td>\n",
              "      <td>S</td>\n",
              "      <td>2426184621371252</td>\n",
              "      <td>3.765780</td>\n",
              "      <td>-11.798776</td>\n",
              "      <td>2.166154;</td>\n",
              "    </tr>\n",
              "  </tbody>\n",
              "</table>\n",
              "<p>66592 rows × 6 columns</p>\n",
              "</div>"
            ],
            "text/plain": [
              "          0  1                 2         3          4            5\n",
              "0      1650  A  2428057133445480 -1.279851  -5.187936  -2.3116016;\n",
              "1      1650  A  2428057182945480 -3.302951  -6.823175   -4.011485;\n",
              "2      1650  A  2428057232445480 -2.876783  -8.365042   -7.171831;\n",
              "3      1650  A  2428057281945480 -2.254291  -8.566154   -8.153454;\n",
              "4      1650  A  2428057331445480 -3.264644 -10.953174   -8.826224;\n",
              "...     ... ..               ...       ...        ...          ...\n",
              "66587  1650  S  2426184421424592  1.486500 -13.302334    5.355231;\n",
              "66588  1650  S  2426184471411932  4.017171 -13.146711   5.1182046;\n",
              "66589  1650  S  2426184521399272  4.412214 -15.318253   3.3704374;\n",
              "66590  1650  S  2426184571385262  4.426579 -13.012636   2.5755625;\n",
              "66591  1650  S  2426184621371252  3.765780 -11.798776    2.166154;\n",
              "\n",
              "[66592 rows x 6 columns]"
            ]
          },
          "execution_count": 4,
          "metadata": {},
          "output_type": "execute_result"
        }
      ],
      "source": [
        "#Importando dataset Acelerômetro\n",
        "caminho = \"SmartWatch/accel/\"\n",
        "arquivos = [arquivo for arquivo in os.listdir(caminho) if arquivo.endswith('.txt')]\n",
        "accl = []\n",
        "for i in arquivos:\n",
        "  acc = pd.read_table(caminho+i, header=None, sep=\",\")\n",
        "  accl.append(acc)\n",
        "accel = pd.concat(accl, ignore_index=True)\n",
        "accel.columns = ['pessoa', 'atividade', 'timestamp', 'x', 'y', 'z']\n",
        "accel = accel.sort_values(by=['pessoa', 'atividade'])\n",
        "accel = accel.reset_index(drop=True)\n",
        "accel['z'] = accel['z'].replace(';', '', regex=True)"
      ]
    },
    {
      "cell_type": "code",
      "execution_count": 5,
      "metadata": {
        "id": "sIN8iqLXK2ec"
      },
      "outputs": [],
      "source": [
        "#Importando dataset Giroscópio\n",
        "caminho = \"SmartWatch/gyro/\"\n",
        "arquivos = [arquivo for arquivo in os.listdir(caminho) if arquivo.endswith('.txt')]\n",
        "g = []\n",
        "for i in arquivos:\n",
        "  giro = pd.read_table(caminho+i, header=None, sep=\",\")\n",
        "  g.append(giro)\n",
        "giro = pd.concat(g, ignore_index=True)\n",
        "giro.columns = ['pessoa', 'atividade', 'timestamp', 'x', 'y', 'z']\n",
        "giro = giro.sort_values(by=['pessoa', 'atividade'])\n",
        "giro = giro.reset_index(drop=True)\n",
        "giro['z'] = giro['z'].replace(';', '', regex=True)"
      ]
    },
    {
      "cell_type": "code",
      "execution_count": 6,
      "metadata": {},
      "outputs": [],
      "source": [
        "accel['z'] = pd.to_numeric(accel['z'], errors='coerce')\n",
        "giro['z'] = pd.to_numeric(giro['z'], errors='coerce')"
      ]
    },
    {
      "cell_type": "code",
      "execution_count": 7,
      "metadata": {
        "colab": {
          "base_uri": "https://localhost:8080/",
          "height": 210
        },
        "id": "8YYtmbe6sVn6",
        "outputId": "1cb40527-8bfe-4b29-c89b-6fb13824f297"
      },
      "outputs": [],
      "source": [
        "\n",
        "def aceleracao_total(x, y, z):\n",
        "  t = (y**2 + x**2 + z**2)**0.5\n",
        "  return t\n",
        "def giro_total(x,y,z, x1, y1, z1):\n",
        "  t = ((x**2)+(x1**2) - 2*x*x1*(np.sin(y)*np.sin(y1)*np.cos((z-z1))+np.cos(y)*np.cos(y1)))**0.5\n",
        "  return t"
      ]
    },
    {
      "cell_type": "code",
      "execution_count": 8,
      "metadata": {
        "id": "5zUxO9OrjzbV"
      },
      "outputs": [],
      "source": [
        "def transacc(x):\n",
        "  for j in range(0, 1200, 20):\n",
        "    valor = 0;\n",
        "    for i in range(0, 20, 1):\n",
        "      valor = valor + aceleracao_total(x.iloc[j+i, 3], x.iloc[(j+i), 4], x.iloc[(j+i), 5])\n",
        "    dadospa.append(valor)\n",
        "    atividade.append(x.iloc[j+i, 1])\n",
        "\n",
        "def transgiro(x):\n",
        "  for j in range(0, 1200, 20):\n",
        "    valor= 0;\n",
        "    for i in range(0,19,1):\n",
        "      valor = valor + giro_total(x.iloc[(j+i),3], x.iloc[(j+i),4], x.iloc[(j+i),5], x.iloc[(j+i+1),3], x.iloc[(j+i+1),4], x.iloc[(j+i+1),5])\n",
        "    dadospg.append(valor)"
      ]
    },
    {
      "cell_type": "code",
      "execution_count": 9,
      "metadata": {
        "colab": {
          "base_uri": "https://localhost:8080/"
        },
        "id": "u5kpCZU1j6eL",
        "outputId": "d6e59a70-88b5-4a92-cc82-6ceecf5dfb99"
      },
      "outputs": [
        {
          "name": "stderr",
          "output_type": "stream",
          "text": [
            "C:\\Users\\Paulo Pires\\AppData\\Local\\Temp\\ipykernel_33972\\2909828199.py:5: RuntimeWarning: invalid value encountered in scalar power\n",
            "  t = ((x**2)+(x1**2) - 2*x*x1*(np.sin(y)*np.sin(y1)*np.cos((z-z1))+np.cos(y)*np.cos(y1)))**0.5\n"
          ]
        }
      ],
      "source": [
        "dadospa = []\n",
        "dadospg = []\n",
        "atividade = []\n",
        "for i in range(1200,len(giro), 1200):\n",
        "  transacc(accel[(i-1200):i])\n",
        "  transgiro(giro[(i-1200):i])"
      ]
    },
    {
      "cell_type": "code",
      "execution_count": 10,
      "metadata": {},
      "outputs": [
        {
          "name": "stdout",
          "output_type": "stream",
          "text": [
            "171960\n",
            "171960\n",
            "171960\n",
            "2866.0\n"
          ]
        }
      ],
      "source": [
        "print(len(dadospa))\n",
        "print(len(dadospg))\n",
        "print(len(atividade))\n",
        "print(171960/60)"
      ]
    },
    {
      "cell_type": "code",
      "execution_count": 11,
      "metadata": {
        "id": "N5DECwwPnigo"
      },
      "outputs": [],
      "source": [
        "df = pd.DataFrame({'pessoa': np.repeat(np.arange(1, 2867), 60), 'tempo': np.tile(np.arange(1,61), 2866), 'atividade': atividade, 'acelerômetro': dadospa, 'giroscópio': dadospg})"
      ]
    },
    {
      "cell_type": "code",
      "execution_count": 12,
      "metadata": {},
      "outputs": [],
      "source": [
        "df.to_csv('base_de_dados', index=False)"
      ]
    }
  ],
  "metadata": {
    "colab": {
      "provenance": []
    },
    "kernelspec": {
      "display_name": "Python 3",
      "name": "python3"
    },
    "language_info": {
      "codemirror_mode": {
        "name": "ipython",
        "version": 3
      },
      "file_extension": ".py",
      "mimetype": "text/x-python",
      "name": "python",
      "nbconvert_exporter": "python",
      "pygments_lexer": "ipython3",
      "version": "3.11.5"
    }
  },
  "nbformat": 4,
  "nbformat_minor": 0
}
