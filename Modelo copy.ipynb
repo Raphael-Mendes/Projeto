{
 "cells": [
  {
   "cell_type": "code",
   "execution_count": 1,
   "metadata": {},
   "outputs": [],
   "source": [
    "import pandas as pd\n",
    "from sklearn.model_selection import train_test_split\n",
    "import pandas as pd\n",
    "import os\n",
    "import numpy as np\n",
    "from matplotlib import pyplot as plt\n",
    "import tensorflow as tf\n",
    "from tensorflow.keras import optimizers\n",
    "from datetime import datetime"
   ]
  },
  {
   "cell_type": "code",
   "execution_count": 2,
   "metadata": {},
   "outputs": [],
   "source": [
    "date = datetime.now()\n",
    "date = date.strftime(\"%d/%m/%Y_%H:%M\")\n",
    "arq = datetime.now()\n",
    "arq = arq.strftime(\"%d_%m_%Y_%H_%M\")\n"
   ]
  },
  {
   "cell_type": "code",
   "execution_count": 3,
   "metadata": {},
   "outputs": [],
   "source": [
    "Npontos = 100 #Tempo de dados 200\n",
    "features = 6\n",
    "lista_ativ = 5\n",
    "colunas_interesse = []\n",
    "for i in range(lista_ativ):\n",
    "    colunas_interesse.append('atividade_'+str(i))"
   ]
  },
  {
   "cell_type": "code",
   "execution_count": 4,
   "metadata": {},
   "outputs": [
    {
     "data": {
      "text/html": [
       "<div>\n",
       "<style scoped>\n",
       "    .dataframe tbody tr th:only-of-type {\n",
       "        vertical-align: middle;\n",
       "    }\n",
       "\n",
       "    .dataframe tbody tr th {\n",
       "        vertical-align: top;\n",
       "    }\n",
       "\n",
       "    .dataframe thead th {\n",
       "        text-align: right;\n",
       "    }\n",
       "</style>\n",
       "<table border=\"1\" class=\"dataframe\">\n",
       "  <thead>\n",
       "    <tr style=\"text-align: right;\">\n",
       "      <th></th>\n",
       "      <th>pessoa_x</th>\n",
       "      <th>tempo</th>\n",
       "      <th>acelerômetro_X</th>\n",
       "      <th>acelerômetro_Y</th>\n",
       "      <th>acelerômetro_Z</th>\n",
       "      <th>giroscópio_X</th>\n",
       "      <th>giroscópio_Y</th>\n",
       "      <th>giroscópio_Z</th>\n",
       "      <th>atividade_0</th>\n",
       "      <th>atividade_1</th>\n",
       "      <th>atividade_2</th>\n",
       "      <th>atividade_3</th>\n",
       "      <th>atividade_4</th>\n",
       "    </tr>\n",
       "  </thead>\n",
       "  <tbody>\n",
       "    <tr>\n",
       "      <th>0</th>\n",
       "      <td>1600</td>\n",
       "      <td>90426757696641</td>\n",
       "      <td>0.616106</td>\n",
       "      <td>0.792659</td>\n",
       "      <td>0.903685</td>\n",
       "      <td>0.216118</td>\n",
       "      <td>-0.658304</td>\n",
       "      <td>-0.223939</td>\n",
       "      <td>True</td>\n",
       "      <td>False</td>\n",
       "      <td>False</td>\n",
       "      <td>False</td>\n",
       "      <td>False</td>\n",
       "    </tr>\n",
       "    <tr>\n",
       "      <th>1</th>\n",
       "      <td>1600</td>\n",
       "      <td>90426807196641</td>\n",
       "      <td>0.371614</td>\n",
       "      <td>0.786319</td>\n",
       "      <td>0.789384</td>\n",
       "      <td>0.261602</td>\n",
       "      <td>-0.390209</td>\n",
       "      <td>-0.044416</td>\n",
       "      <td>True</td>\n",
       "      <td>False</td>\n",
       "      <td>False</td>\n",
       "      <td>False</td>\n",
       "      <td>False</td>\n",
       "    </tr>\n",
       "    <tr>\n",
       "      <th>2</th>\n",
       "      <td>1600</td>\n",
       "      <td>90426856696641</td>\n",
       "      <td>0.307257</td>\n",
       "      <td>0.793112</td>\n",
       "      <td>0.768011</td>\n",
       "      <td>0.062944</td>\n",
       "      <td>-0.118576</td>\n",
       "      <td>-0.145535</td>\n",
       "      <td>True</td>\n",
       "      <td>False</td>\n",
       "      <td>False</td>\n",
       "      <td>False</td>\n",
       "      <td>False</td>\n",
       "    </tr>\n",
       "    <tr>\n",
       "      <th>3</th>\n",
       "      <td>1600</td>\n",
       "      <td>90426906196641</td>\n",
       "      <td>0.445166</td>\n",
       "      <td>0.623742</td>\n",
       "      <td>1.104409</td>\n",
       "      <td>0.042208</td>\n",
       "      <td>0.189840</td>\n",
       "      <td>-0.118424</td>\n",
       "      <td>True</td>\n",
       "      <td>False</td>\n",
       "      <td>False</td>\n",
       "      <td>False</td>\n",
       "      <td>False</td>\n",
       "    </tr>\n",
       "    <tr>\n",
       "      <th>4</th>\n",
       "      <td>1600</td>\n",
       "      <td>90426955696641</td>\n",
       "      <td>0.571838</td>\n",
       "      <td>0.854701</td>\n",
       "      <td>1.483555</td>\n",
       "      <td>0.064282</td>\n",
       "      <td>0.498256</td>\n",
       "      <td>-0.011442</td>\n",
       "      <td>True</td>\n",
       "      <td>False</td>\n",
       "      <td>False</td>\n",
       "      <td>False</td>\n",
       "      <td>False</td>\n",
       "    </tr>\n",
       "    <tr>\n",
       "      <th>...</th>\n",
       "      <td>...</td>\n",
       "      <td>...</td>\n",
       "      <td>...</td>\n",
       "      <td>...</td>\n",
       "      <td>...</td>\n",
       "      <td>...</td>\n",
       "      <td>...</td>\n",
       "      <td>...</td>\n",
       "      <td>...</td>\n",
       "      <td>...</td>\n",
       "      <td>...</td>\n",
       "      <td>...</td>\n",
       "      <td>...</td>\n",
       "    </tr>\n",
       "    <tr>\n",
       "      <th>3173930</th>\n",
       "      <td>1650</td>\n",
       "      <td>2426184371437252</td>\n",
       "      <td>0.212891</td>\n",
       "      <td>-0.541440</td>\n",
       "      <td>1.169314</td>\n",
       "      <td>-1.774964</td>\n",
       "      <td>1.386521</td>\n",
       "      <td>0.576652</td>\n",
       "      <td>False</td>\n",
       "      <td>False</td>\n",
       "      <td>True</td>\n",
       "      <td>False</td>\n",
       "      <td>False</td>\n",
       "    </tr>\n",
       "    <tr>\n",
       "      <th>3173931</th>\n",
       "      <td>1650</td>\n",
       "      <td>2426184421424592</td>\n",
       "      <td>0.120270</td>\n",
       "      <td>-1.693517</td>\n",
       "      <td>0.643342</td>\n",
       "      <td>-1.809746</td>\n",
       "      <td>1.227361</td>\n",
       "      <td>0.870484</td>\n",
       "      <td>False</td>\n",
       "      <td>False</td>\n",
       "      <td>True</td>\n",
       "      <td>False</td>\n",
       "      <td>False</td>\n",
       "    </tr>\n",
       "    <tr>\n",
       "      <th>3173932</th>\n",
       "      <td>1650</td>\n",
       "      <td>2426184471411932</td>\n",
       "      <td>0.480197</td>\n",
       "      <td>-1.664081</td>\n",
       "      <td>0.597343</td>\n",
       "      <td>-1.875296</td>\n",
       "      <td>1.049810</td>\n",
       "      <td>1.404657</td>\n",
       "      <td>False</td>\n",
       "      <td>False</td>\n",
       "      <td>True</td>\n",
       "      <td>False</td>\n",
       "      <td>False</td>\n",
       "    </tr>\n",
       "    <tr>\n",
       "      <th>3173933</th>\n",
       "      <td>1650</td>\n",
       "      <td>2426184521399272</td>\n",
       "      <td>0.536382</td>\n",
       "      <td>-2.074826</td>\n",
       "      <td>0.258156</td>\n",
       "      <td>-2.002384</td>\n",
       "      <td>1.080227</td>\n",
       "      <td>2.065595</td>\n",
       "      <td>False</td>\n",
       "      <td>False</td>\n",
       "      <td>True</td>\n",
       "      <td>False</td>\n",
       "      <td>False</td>\n",
       "    </tr>\n",
       "    <tr>\n",
       "      <th>3173934</th>\n",
       "      <td>1650</td>\n",
       "      <td>2426184571385262</td>\n",
       "      <td>0.538425</td>\n",
       "      <td>-1.638721</td>\n",
       "      <td>0.103896</td>\n",
       "      <td>-1.523465</td>\n",
       "      <td>0.595674</td>\n",
       "      <td>2.296411</td>\n",
       "      <td>False</td>\n",
       "      <td>False</td>\n",
       "      <td>True</td>\n",
       "      <td>False</td>\n",
       "      <td>False</td>\n",
       "    </tr>\n",
       "  </tbody>\n",
       "</table>\n",
       "<p>3173935 rows × 13 columns</p>\n",
       "</div>"
      ],
      "text/plain": [
       "         pessoa_x             tempo  acelerômetro_X  acelerômetro_Y  \\\n",
       "0            1600    90426757696641        0.616106        0.792659   \n",
       "1            1600    90426807196641        0.371614        0.786319   \n",
       "2            1600    90426856696641        0.307257        0.793112   \n",
       "3            1600    90426906196641        0.445166        0.623742   \n",
       "4            1600    90426955696641        0.571838        0.854701   \n",
       "...           ...               ...             ...             ...   \n",
       "3173930      1650  2426184371437252        0.212891       -0.541440   \n",
       "3173931      1650  2426184421424592        0.120270       -1.693517   \n",
       "3173932      1650  2426184471411932        0.480197       -1.664081   \n",
       "3173933      1650  2426184521399272        0.536382       -2.074826   \n",
       "3173934      1650  2426184571385262        0.538425       -1.638721   \n",
       "\n",
       "         acelerômetro_Z  giroscópio_X  giroscópio_Y  giroscópio_Z  \\\n",
       "0              0.903685      0.216118     -0.658304     -0.223939   \n",
       "1              0.789384      0.261602     -0.390209     -0.044416   \n",
       "2              0.768011      0.062944     -0.118576     -0.145535   \n",
       "3              1.104409      0.042208      0.189840     -0.118424   \n",
       "4              1.483555      0.064282      0.498256     -0.011442   \n",
       "...                 ...           ...           ...           ...   \n",
       "3173930        1.169314     -1.774964      1.386521      0.576652   \n",
       "3173931        0.643342     -1.809746      1.227361      0.870484   \n",
       "3173932        0.597343     -1.875296      1.049810      1.404657   \n",
       "3173933        0.258156     -2.002384      1.080227      2.065595   \n",
       "3173934        0.103896     -1.523465      0.595674      2.296411   \n",
       "\n",
       "         atividade_0  atividade_1  atividade_2  atividade_3  atividade_4  \n",
       "0               True        False        False        False        False  \n",
       "1               True        False        False        False        False  \n",
       "2               True        False        False        False        False  \n",
       "3               True        False        False        False        False  \n",
       "4               True        False        False        False        False  \n",
       "...              ...          ...          ...          ...          ...  \n",
       "3173930        False        False         True        False        False  \n",
       "3173931        False        False         True        False        False  \n",
       "3173932        False        False         True        False        False  \n",
       "3173933        False        False         True        False        False  \n",
       "3173934        False        False         True        False        False  \n",
       "\n",
       "[3173935 rows x 13 columns]"
      ]
     },
     "execution_count": 4,
     "metadata": {},
     "output_type": "execute_result"
    }
   ],
   "source": [
    "dataset = pd.read_csv('Datasets/simulação.csv')\n",
    "dataset"
   ]
  },
  {
   "cell_type": "code",
   "execution_count": 5,
   "metadata": {},
   "outputs": [],
   "source": [
    "for coluna in colunas_interesse:\n",
    "    dataset[coluna] = dataset[coluna].astype(int)"
   ]
  },
  {
   "cell_type": "code",
   "execution_count": 6,
   "metadata": {},
   "outputs": [],
   "source": [
    "def cria_IN_OUT(data, janela, features):\n",
    "    OUT_indices = np.arange(janela, len(data), janela)\n",
    "    OUT = data[OUT_indices]\n",
    "\n",
    "    IN_indices = [range(i-janela, i) for i in OUT_indices]\n",
    "    IN = data[np.array(IN_indices).flatten()]\n",
    "    IN = np.reshape(IN, (len(OUT), janela, features))\n",
    "    IN_final = IN[:, :, :]\n",
    "    return IN_final\n",
    "#data = quantidade total de dados\n",
    "#janela = número de pontos de cada série\n",
    "#features = quais tipos de dados cada ponto recebe"
   ]
  },
  {
   "cell_type": "code",
   "execution_count": 7,
   "metadata": {},
   "outputs": [],
   "source": [
    "featuresX = ['acelerômetro_X', 'acelerômetro_Y', 'acelerômetro_Z', 'giroscópio_X', 'giroscópio_Y', 'giroscópio_Z']\n",
    "colunas_label = []\n",
    "for i in range(lista_ativ):\n",
    "    colunas_label.append('atividade_'+str(i))"
   ]
  },
  {
   "cell_type": "code",
   "execution_count": 8,
   "metadata": {},
   "outputs": [],
   "source": [
    "\n",
    "def treino_teste(atividade):\n",
    "    X_parte_train, X_temp, Y_parte_train, Y_temp = train_test_split(atividade[featuresX], atividade[colunas_label], test_size=0.3, random_state=42, shuffle=False)\n",
    "    X_parte_test, X_parte_val, Y_parte_test, Y_parte_val = train_test_split(X_temp, Y_temp, test_size=0.33, random_state=42, shuffle=False)\n",
    "    array_treino = X_parte_train.values\n",
    "    array_teste = X_parte_test.values\n",
    "    array_val = X_parte_val.values\n",
    "    final_treino_X = cria_IN_OUT(array_treino, Npontos, len(featuresX))\n",
    "    final_teste_X = cria_IN_OUT(array_teste, Npontos, len(featuresX))\n",
    "    final_val_X = cria_IN_OUT(array_val, Npontos, len(featuresX))\n",
    "    array_label_treino = Y_parte_train[colunas_interesse].values\n",
    "    array_label_teste = Y_parte_test[colunas_interesse].values\n",
    "    array_label_val = Y_parte_val[colunas_interesse].values\n",
    "    final_treino_Y = f(array_label_treino, Npontos)\n",
    "    final_teste_Y = f(array_label_teste, Npontos)\n",
    "    final_val_Y = f(array_label_val, Npontos)\n",
    "    label_treino = np.concatenate([trainY, final_treino_Y])\n",
    "    label_val = np.concatenate([valY, final_val_Y])\n",
    "    val = np.concatenate([valX, final_val_X])\n",
    "    treino = np.concatenate([trainX, final_treino_X])\n",
    "    teste = np.concatenate([final_teste_X, testX])\n",
    "    label_teste = np.concatenate([final_teste_Y, testY])\n",
    "    return treino, label_treino, val, label_val, teste, label_teste\n"
   ]
  },
  {
   "cell_type": "code",
   "execution_count": 9,
   "metadata": {},
   "outputs": [],
   "source": [
    "def f(x, n):\n",
    "    y = np.array([-1]*x.shape[1])\n",
    "    y = np.vstack([y,x[0]])\n",
    "    y = np.delete(y, (0), axis=0)\n",
    "    for i, linha in enumerate(x):\n",
    "        if i == 0: continue\n",
    "        if i % n == 0:\n",
    "            y = np.vstack([y, linha])\n",
    "    y = y[:-1]\n",
    "    return y"
   ]
  },
  {
   "cell_type": "code",
   "execution_count": 10,
   "metadata": {},
   "outputs": [
    {
     "name": "stdout",
     "output_type": "stream",
     "text": [
      "(22215, 100, 6)\n",
      "(22215, 5)\n",
      "(6378, 100, 6)\n",
      "(6378, 5)\n",
      "(3140, 100, 6)\n",
      "(3140, 5)\n"
     ]
    }
   ],
   "source": [
    "trainX = np.empty((0, Npontos, len(featuresX)), dtype=float)\n",
    "valX = trainX.copy()\n",
    "testX = trainX.copy()\n",
    "trainY = np.empty((0, len(colunas_label)), dtype=float)\n",
    "valY = trainY.copy()\n",
    "testY = trainY.copy()\n",
    "for atividade in colunas_label:\n",
    "    trainX, trainY, valX, valY, testX, testY = treino_teste(dataset[dataset[atividade] == 1])\n",
    "print(trainX.shape)\n",
    "print(trainY.shape)\n",
    "print(testX.shape)\n",
    "print(testY.shape)\n",
    "print(valX.shape)\n",
    "print(valY.shape)"
   ]
  },
  {
   "cell_type": "code",
   "execution_count": 11,
   "metadata": {},
   "outputs": [
    {
     "data": {
      "text/plain": [
       "2.2430534244999465"
      ]
     },
     "execution_count": 11,
     "metadata": {},
     "output_type": "execute_result"
    }
   ],
   "source": [
    "valX[0][0][0]"
   ]
  },
  {
   "cell_type": "code",
   "execution_count": null,
   "metadata": {},
   "outputs": [],
   "source": []
  },
  {
   "cell_type": "code",
   "execution_count": 12,
   "metadata": {},
   "outputs": [
    {
     "name": "stdout",
     "output_type": "stream",
     "text": [
      "Shape do conjunto de treino (X): (22215, 100, 6)\n",
      "Shape do conjunto de treino (Y): (22215, 5)\n",
      "Shape do conjunto de validação (X): (3140, 100, 6)\n",
      "Shape do conjunto de validação (Y): (3140, 5)\n"
     ]
    }
   ],
   "source": [
    "print(\"Shape do conjunto de treino (X):\", trainX.shape)\n",
    "print(\"Shape do conjunto de treino (Y):\", trainY.shape)\n",
    "'''print(\"Shape do conjunto de teste (X):\", testX.shape)\n",
    "print(\"Shape do conjunto de teste (Y):\", testY.shape)'''\n",
    "print(\"Shape do conjunto de validação (X):\", valX.shape)\n",
    "print(\"Shape do conjunto de validação (Y):\", valY.shape)\n"
   ]
  },
  {
   "cell_type": "code",
   "execution_count": 13,
   "metadata": {},
   "outputs": [],
   "source": [
    "def teste_label(dados, label):\n",
    "    errados = []\n",
    "    errado = 0;\n",
    "    for x in range(len(label)):\n",
    "        for i in range(18):\n",
    "            if label[x][i] == 1:\n",
    "                a = dataset[(dataset[\"acelerômetro_X\"] == dados[x][0][0]) & (dataset[\"acelerômetro_Y\"] == dados[x][0][1]) & (dataset[\"acelerômetro_Z\"] == dados[x][0][2]) & (dataset[\"giroscópio_X\"] == dados[x][0][3]) & (dataset[\"giroscópio_Y\"] == dados[x][0][4]) & (dataset[\"giroscópio_Z\"] == dados[x][0][5])]\n",
    "                a = a[\"atividade_\" + str(i)].values[0]\n",
    "                if(a != 1):\n",
    "                    errado = errado+1\n",
    "                    errados.append(x)\n",
    "    print(errado)\n",
    "    print(errados)\n",
    "\n"
   ]
  },
  {
   "cell_type": "code",
   "execution_count": 14,
   "metadata": {},
   "outputs": [
    {
     "data": {
      "text/plain": [
       "'teste_label(trainX, trainY)\\nteste_label(testX, testY)\\nteste_label(valX, valY)'"
      ]
     },
     "execution_count": 14,
     "metadata": {},
     "output_type": "execute_result"
    }
   ],
   "source": [
    "'''teste_label(trainX, trainY)\n",
    "teste_label(testX, testY)\n",
    "teste_label(valX, valY)'''"
   ]
  },
  {
   "cell_type": "code",
   "execution_count": 15,
   "metadata": {},
   "outputs": [],
   "source": [
    "# taxa de aprendizado padrão ADAM 0.001\n",
    "optimizer = optimizers.Adam()"
   ]
  },
  {
   "cell_type": "code",
   "execution_count": 16,
   "metadata": {},
   "outputs": [],
   "source": [
    "def cria_LSTM(hidden_units, dense_units, input_shape, activation, optimizer):\n",
    "  model = tf.keras.Sequential()\n",
    "  model.add(tf.keras.layers.LSTM(hidden_units, input_shape=input_shape, activation=activation[0], return_sequences=True))\n",
    "  model.add(tf.keras.layers.LSTM(activation=activation[2], units=160))\n",
    "  model.add(tf.keras.layers.Dropout(rate=0.3))\n",
    "  model.add(tf.keras.layers.Dense(units=dense_units, activation=activation[1]))\n",
    "  model.compile(loss='categorical_crossentropy', optimizer ='adam', metrics=['accuracy'])\n",
    "  return model\n",
    "\n",
    "model = cria_LSTM(hidden_units=64, dense_units=lista_ativ, input_shape=(Npontos, len(featuresX)), activation=['tanh', 'softmax','sigmoid'], optimizer=optimizer)\n"
   ]
  },
  {
   "cell_type": "code",
   "execution_count": 25,
   "metadata": {},
   "outputs": [],
   "source": [
    "def reset_model():\n",
    "  global model\n",
    "  model = cria_LSTM(hidden_units=64, dense_units=lista_ativ, input_shape=(Npontos, len(featuresX)), activation=['tanh', 'softmax','sigmoid'], optimizer=tf.keras.optimizers.Adam())"
   ]
  },
  {
   "cell_type": "code",
   "execution_count": 18,
   "metadata": {},
   "outputs": [
    {
     "name": "stdout",
     "output_type": "stream",
     "text": [
      "Epoch 1/50\n",
      "445/445 [==============================] - 50s 107ms/step - loss: 1.1483 - accuracy: 0.4597 - val_loss: 1.0133 - val_accuracy: 0.5519\n",
      "Epoch 2/50\n",
      "445/445 [==============================] - 47s 106ms/step - loss: 0.8907 - accuracy: 0.6162 - val_loss: 0.9001 - val_accuracy: 0.6086\n",
      "Epoch 3/50\n",
      "445/445 [==============================] - 46s 103ms/step - loss: 0.7080 - accuracy: 0.7219 - val_loss: 0.8299 - val_accuracy: 0.6669\n",
      "Epoch 4/50\n",
      "445/445 [==============================] - 45s 102ms/step - loss: 0.5807 - accuracy: 0.7806 - val_loss: 0.6841 - val_accuracy: 0.7150\n",
      "Epoch 5/50\n",
      "445/445 [==============================] - 45s 102ms/step - loss: 0.4848 - accuracy: 0.8231 - val_loss: 0.5843 - val_accuracy: 0.7790\n",
      "Epoch 6/50\n",
      "445/445 [==============================] - 46s 104ms/step - loss: 0.4231 - accuracy: 0.8496 - val_loss: 0.6421 - val_accuracy: 0.7471\n",
      "Epoch 7/50\n",
      "445/445 [==============================] - 46s 104ms/step - loss: 0.3871 - accuracy: 0.8625 - val_loss: 0.5775 - val_accuracy: 0.7656\n",
      "Epoch 8/50\n",
      "445/445 [==============================] - 47s 106ms/step - loss: 0.3524 - accuracy: 0.8760 - val_loss: 0.6803 - val_accuracy: 0.7653\n",
      "Epoch 9/50\n",
      "445/445 [==============================] - 46s 104ms/step - loss: 0.3337 - accuracy: 0.8844 - val_loss: 0.5740 - val_accuracy: 0.7812\n",
      "Epoch 10/50\n",
      "445/445 [==============================] - 46s 104ms/step - loss: 0.3071 - accuracy: 0.8898 - val_loss: 0.6377 - val_accuracy: 0.7815\n",
      "Epoch 11/50\n",
      "445/445 [==============================] - 46s 104ms/step - loss: 0.2939 - accuracy: 0.8963 - val_loss: 0.5575 - val_accuracy: 0.8010\n",
      "Epoch 12/50\n",
      "445/445 [==============================] - 46s 103ms/step - loss: 0.2741 - accuracy: 0.9032 - val_loss: 0.5639 - val_accuracy: 0.7987\n",
      "Epoch 13/50\n",
      "445/445 [==============================] - 47s 106ms/step - loss: 0.2585 - accuracy: 0.9092 - val_loss: 0.5827 - val_accuracy: 0.7984\n",
      "Epoch 14/50\n",
      "445/445 [==============================] - 47s 105ms/step - loss: 0.2439 - accuracy: 0.9145 - val_loss: 0.5661 - val_accuracy: 0.7968\n",
      "Epoch 15/50\n",
      "445/445 [==============================] - 47s 105ms/step - loss: 0.2348 - accuracy: 0.9178 - val_loss: 0.6113 - val_accuracy: 0.8038\n",
      "Epoch 16/50\n",
      "445/445 [==============================] - 47s 106ms/step - loss: 0.2200 - accuracy: 0.9236 - val_loss: 0.5958 - val_accuracy: 0.8010\n",
      "Epoch 17/50\n",
      "445/445 [==============================] - 47s 105ms/step - loss: 0.2159 - accuracy: 0.9261 - val_loss: 0.5351 - val_accuracy: 0.8194\n",
      "Epoch 18/50\n",
      "445/445 [==============================] - 46s 103ms/step - loss: 0.2023 - accuracy: 0.9302 - val_loss: 0.5807 - val_accuracy: 0.8076\n",
      "Epoch 19/50\n",
      "445/445 [==============================] - 51s 114ms/step - loss: 0.2185 - accuracy: 0.9251 - val_loss: 0.6667 - val_accuracy: 0.8038\n",
      "Epoch 20/50\n",
      "445/445 [==============================] - 52s 117ms/step - loss: 0.1935 - accuracy: 0.9321 - val_loss: 0.5976 - val_accuracy: 0.8172\n",
      "Epoch 21/50\n",
      "445/445 [==============================] - 54s 121ms/step - loss: 0.1748 - accuracy: 0.9380 - val_loss: 0.6178 - val_accuracy: 0.8124\n",
      "Epoch 22/50\n",
      "445/445 [==============================] - 56s 125ms/step - loss: 0.1802 - accuracy: 0.9387 - val_loss: 0.6485 - val_accuracy: 0.8057\n",
      "Epoch 23/50\n",
      "445/445 [==============================] - 56s 125ms/step - loss: 0.1694 - accuracy: 0.9419 - val_loss: 0.6032 - val_accuracy: 0.8143\n",
      "Epoch 24/50\n",
      "445/445 [==============================] - 52s 118ms/step - loss: 0.1611 - accuracy: 0.9433 - val_loss: 0.6337 - val_accuracy: 0.8194\n",
      "Epoch 25/50\n",
      "445/445 [==============================] - 53s 119ms/step - loss: 0.1529 - accuracy: 0.9481 - val_loss: 0.5856 - val_accuracy: 0.8293\n",
      "Epoch 26/50\n",
      "445/445 [==============================] - 53s 120ms/step - loss: 0.1471 - accuracy: 0.9490 - val_loss: 0.6286 - val_accuracy: 0.8293\n",
      "Epoch 27/50\n",
      "445/445 [==============================] - 56s 125ms/step - loss: 0.1450 - accuracy: 0.9484 - val_loss: 0.6508 - val_accuracy: 0.8318\n",
      "Epoch 28/50\n",
      "445/445 [==============================] - 53s 119ms/step - loss: 0.1416 - accuracy: 0.9512 - val_loss: 0.6477 - val_accuracy: 0.8239\n",
      "Epoch 29/50\n",
      "445/445 [==============================] - 50s 113ms/step - loss: 0.1344 - accuracy: 0.9533 - val_loss: 0.6466 - val_accuracy: 0.8185\n",
      "Epoch 30/50\n",
      "445/445 [==============================] - 51s 116ms/step - loss: 0.1391 - accuracy: 0.9516 - val_loss: 0.6386 - val_accuracy: 0.8169\n",
      "Epoch 31/50\n",
      "445/445 [==============================] - 51s 114ms/step - loss: 0.1325 - accuracy: 0.9530 - val_loss: 0.6239 - val_accuracy: 0.8309\n",
      "Epoch 32/50\n",
      "445/445 [==============================] - 52s 117ms/step - loss: 0.1213 - accuracy: 0.9584 - val_loss: 0.6483 - val_accuracy: 0.8274\n",
      "Epoch 33/50\n",
      "445/445 [==============================] - 52s 116ms/step - loss: 0.1179 - accuracy: 0.9589 - val_loss: 0.8166 - val_accuracy: 0.8057\n",
      "Epoch 34/50\n",
      "445/445 [==============================] - 50s 113ms/step - loss: 0.1176 - accuracy: 0.9593 - val_loss: 0.6712 - val_accuracy: 0.8299\n",
      "Epoch 35/50\n",
      "445/445 [==============================] - 52s 116ms/step - loss: 0.1185 - accuracy: 0.9576 - val_loss: 0.6560 - val_accuracy: 0.8229\n",
      "Epoch 36/50\n",
      "445/445 [==============================] - 55s 123ms/step - loss: 0.1156 - accuracy: 0.9596 - val_loss: 0.6991 - val_accuracy: 0.8248\n",
      "Epoch 37/50\n",
      "445/445 [==============================] - 54s 121ms/step - loss: 0.1162 - accuracy: 0.9585 - val_loss: 0.7065 - val_accuracy: 0.8366\n",
      "Epoch 38/50\n",
      "445/445 [==============================] - 52s 116ms/step - loss: 0.1015 - accuracy: 0.9628 - val_loss: 0.7101 - val_accuracy: 0.8315\n",
      "Epoch 39/50\n",
      "445/445 [==============================] - 53s 120ms/step - loss: 0.1033 - accuracy: 0.9634 - val_loss: 0.7164 - val_accuracy: 0.8172\n",
      "Epoch 40/50\n",
      "445/445 [==============================] - 53s 119ms/step - loss: 0.1048 - accuracy: 0.9640 - val_loss: 0.7247 - val_accuracy: 0.8261\n",
      "Epoch 41/50\n",
      "445/445 [==============================] - 53s 119ms/step - loss: 0.0961 - accuracy: 0.9659 - val_loss: 0.8387 - val_accuracy: 0.8166\n",
      "Epoch 42/50\n",
      "445/445 [==============================] - 52s 118ms/step - loss: 0.0971 - accuracy: 0.9661 - val_loss: 0.7106 - val_accuracy: 0.8299\n",
      "Epoch 43/50\n",
      "445/445 [==============================] - 53s 120ms/step - loss: 0.0884 - accuracy: 0.9685 - val_loss: 0.8358 - val_accuracy: 0.8210\n",
      "Epoch 44/50\n",
      "445/445 [==============================] - 53s 119ms/step - loss: 0.0883 - accuracy: 0.9689 - val_loss: 0.8173 - val_accuracy: 0.8061\n",
      "Epoch 45/50\n",
      "445/445 [==============================] - 52s 116ms/step - loss: 0.0946 - accuracy: 0.9663 - val_loss: 0.8322 - val_accuracy: 0.8150\n",
      "Epoch 46/50\n",
      "445/445 [==============================] - 53s 119ms/step - loss: 0.0912 - accuracy: 0.9679 - val_loss: 0.7782 - val_accuracy: 0.8312\n",
      "Epoch 47/50\n",
      "445/445 [==============================] - 53s 120ms/step - loss: 0.0824 - accuracy: 0.9707 - val_loss: 0.7451 - val_accuracy: 0.8296\n",
      "Epoch 48/50\n",
      "445/445 [==============================] - 54s 121ms/step - loss: 0.0832 - accuracy: 0.9711 - val_loss: 0.7744 - val_accuracy: 0.8274\n",
      "Epoch 49/50\n",
      "445/445 [==============================] - 54s 122ms/step - loss: 0.0788 - accuracy: 0.9721 - val_loss: 0.7876 - val_accuracy: 0.8366\n",
      "Epoch 50/50\n",
      "445/445 [==============================] - 54s 121ms/step - loss: 0.0809 - accuracy: 0.9714 - val_loss: 0.8154 - val_accuracy: 0.8264\n"
     ]
    }
   ],
   "source": [
    "reset_model()\n",
    "history = model.fit(trainX, trainY, epochs = 50, batch_size = 50, verbose = 1,  validation_data=(valX, valY), use_multiprocessing=True)"
   ]
  },
  {
   "cell_type": "code",
   "execution_count": 19,
   "metadata": {},
   "outputs": [
    {
     "name": "stderr",
     "output_type": "stream",
     "text": [
      "C:\\Users\\rapha\\AppData\\Local\\Temp\\ipykernel_17884\\841215041.py:8: MatplotlibDeprecationWarning: Auto-removal of overlapping axes is deprecated since 3.6 and will be removed two minor releases later; explicitly call ax.remove() as needed.\n",
      "  plt.subplot(2,1,1)\n"
     ]
    },
    {
     "data": {
      "image/png": "[encoded data removed]",
      "text/plain": [
       "<Figure size 700x700 with 2 Axes>"
      ]
     },
     "metadata": {},
     "output_type": "display_data"
    }
   ],
   "source": [
    "date = datetime.now()\n",
    "date = date.strftime(\"%d/%m/%Y %H:%M\")\n",
    "arq = datetime.now()\n",
    "arq = arq.strftime(\"%d_%m_%Y_%H_%M\")\n",
    "\n",
    "plt.figure(figsize= (7,7))\n",
    "plt.title(f\"Gráfico Treino e Teste {date}\")\n",
    "plt.subplot(2,1,1)\n",
    "plt.title(\"loss\")\n",
    "plt.plot(history.history['loss'], label = 'Treino')\n",
    "plt.plot(history.history['val_loss'], label='Validação')\n",
    "plt.subplot(2,1,2)\n",
    "plt.title(\"acurácia\")\n",
    "plt.plot(history.history['accuracy'], label = 'Treino')\n",
    "plt.plot(history.history['val_accuracy'], label='Validação')\n",
    "plt.legend(['treino', 'teste'])\n",
    "plt.xlabel('epoch')\n",
    "plt.savefig('Plots/%s' % arq)\n",
    "plt.tight_layout()"
   ]
  },
  {
   "cell_type": "code",
   "execution_count": 20,
   "metadata": {},
   "outputs": [
    {
     "name": "stdout",
     "output_type": "stream",
     "text": [
      "99/99 [==============================] - 3s 27ms/step\n"
     ]
    }
   ],
   "source": [
    "ypred = model.predict(valX)"
   ]
  },
  {
   "cell_type": "code",
   "execution_count": 21,
   "metadata": {},
   "outputs": [
    {
     "name": "stdout",
     "output_type": "stream",
     "text": [
      "99/99 [==============================] - 3s 26ms/step\n",
      "One-Hot Predictions:\n",
      " [[1. 0. 0. 0. 0.]\n",
      " [1. 0. 0. 0. 0.]\n",
      " [0. 0. 0. 0. 1.]\n",
      " ...\n",
      " [0. 0. 0. 0. 1.]\n",
      " [0. 0. 0. 0. 1.]\n",
      " [0. 0. 0. 0. 1.]]\n"
     ]
    }
   ],
   "source": [
    "def predict_with_one_hot(model, input_data, num_classes):\n",
    "    # Faz a previsão usando o modelo\n",
    "    predictions = model.predict(input_data)\n",
    "    \n",
    "    # Realiza o argmax sobre as previsões\n",
    "    predicted_classes = np.argmax(predictions, axis=1)\n",
    "    \n",
    "    # Cria um vetor one-hot encoding\n",
    "    one_hot_predictions = np.zeros((len(predicted_classes), num_classes))\n",
    "    one_hot_predictions[np.arange(len(predicted_classes)), predicted_classes] = 1\n",
    "    \n",
    "    return one_hot_predictions\n",
    "\n",
    "# Exemplo de uso\n",
    "# Suponha que 'dados_de_entrada' seja seus dados de entrada\n",
    "# e 'modelo' seja o modelo criado usando a função cria_LSTM\n",
    "# 'num_classes' é o número total de classes\n",
    "\n",
    "num_classes = 5\n",
    "one_hot_predictions = predict_with_one_hot(model, valX, num_classes)\n",
    "print(\"One-Hot Predictions:\\n\", one_hot_predictions)"
   ]
  },
  {
   "cell_type": "code",
   "execution_count": 22,
   "metadata": {},
   "outputs": [
    {
     "name": "stdout",
     "output_type": "stream",
     "text": [
      "Acurácia: 0.8264331210191083\n"
     ]
    }
   ],
   "source": [
    "from sklearn.metrics import accuracy_score\n",
    "predicted_classes = np.argmax(one_hot_predictions, axis=1)\n",
    "\n",
    "# Calcula a acurácia\n",
    "acuracia = accuracy_score(valY, one_hot_predictions)\n",
    "\n",
    "print(\"Acurácia:\", acuracia)"
   ]
  },
  {
   "cell_type": "code",
   "execution_count": 23,
   "metadata": {},
   "outputs": [
    {
     "data": {
      "image/png": "[encoded data removed]",
      "text/plain": [
       "<Figure size 1000x800 with 2 Axes>"
      ]
     },
     "metadata": {},
     "output_type": "display_data"
    }
   ],
   "source": [
    "from sklearn.metrics import confusion_matrix\n",
    "import seaborn as sns\n",
    "import matplotlib.pyplot as plt\n",
    "\n",
    "# Suponha que 'rotulos_verdadeiros' seja um array ou lista com os rótulos verdadeiros\n",
    "# e 'one_hot_predictions' seja um array com as previsões no formato one-hot encoding\n",
    "\n",
    "# Converte one-hot predictions para classes preditas\n",
    "predicted_classes = np.argmax(one_hot_predictions, axis=1)\n",
    "a = np.argmax(valY, axis=1)\n",
    "\n",
    "# Calcula a matriz de confusão\n",
    "matriz_confusao = confusion_matrix(a, predicted_classes)\n",
    "\n",
    "# Visualiza a matriz de confusão usando seaborn\n",
    "plt.figure(figsize=(10, 8))\n",
    "sns.heatmap(matriz_confusao, annot=True, fmt='d', cmap='Blues', xticklabels=range(5), yticklabels=range(5))\n",
    "plt.xlabel('Predito')\n",
    "plt.ylabel('Verdadeiro')\n",
    "plt.title('Matriz de Confusão')\n",
    "plt.show()\n"
   ]
  },
  {
   "cell_type": "code",
   "execution_count": 24,
   "metadata": {},
   "outputs": [
    {
     "ename": "AttributeError",
     "evalue": "'Axes' object has no attribute 'flatten'",
     "output_type": "error",
     "traceback": [
      "\u001b[1;31m---------------------------------------------------------------------------\u001b[0m",
      "\u001b[1;31mAttributeError\u001b[0m                            Traceback (most recent call last)",
      "Cell \u001b[1;32mIn[24], line 4\u001b[0m\n\u001b[0;32m      1\u001b[0m nome \u001b[38;5;241m=\u001b[39m \u001b[38;5;124m'\u001b[39m\u001b[38;5;124mAcurácia_\u001b[39m\u001b[38;5;132;01m{}\u001b[39;00m\u001b[38;5;124m'\u001b[39m\u001b[38;5;241m.\u001b[39mformat(date)\n\u001b[0;32m      3\u001b[0m fig, axes \u001b[38;5;241m=\u001b[39m plt\u001b[38;5;241m.\u001b[39msubplots(nrows\u001b[38;5;241m=\u001b[39m\u001b[38;5;241m1\u001b[39m, ncols\u001b[38;5;241m=\u001b[39m\u001b[38;5;241m1\u001b[39m, figsize\u001b[38;5;241m=\u001b[39m(\u001b[38;5;241m20\u001b[39m, \u001b[38;5;241m7\u001b[39m))\n\u001b[1;32m----> 4\u001b[0m axes \u001b[38;5;241m=\u001b[39m axes\u001b[38;5;241m.\u001b[39mflatten()\n\u001b[0;32m      6\u001b[0m \u001b[38;5;28;01mfor\u001b[39;00m i \u001b[38;5;129;01min\u001b[39;00m \u001b[38;5;28mrange\u001b[39m(\u001b[38;5;28mlen\u001b[39m(historico)):\n\u001b[0;32m      7\u001b[0m     ax \u001b[38;5;241m=\u001b[39m axes[i]\n",
      "\u001b[1;31mAttributeError\u001b[0m: 'Axes' object has no attribute 'flatten'"
     ]
    },
    {
     "data": {
      "image/png": "[encoded data removed]",
      "text/plain": [
       "<Figure size 2000x700 with 1 Axes>"
      ]
     },
     "metadata": {},
     "output_type": "display_data"
    }
   ],
   "source": [
    "\n",
    "nome = 'Acurácia_{}'.format(date)\n",
    "\n",
    "fig, axes = plt.subplots(nrows=1, ncols=1, figsize=(20, 7))\n",
    "axes = axes.flatten()\n",
    "\n",
    "for i in range(len(historico)):\n",
    "    ax = axes[i]\n",
    "    ax.set_title(f'Acurácia - Treino {i + 1}')\n",
    "    ax.plot(historico[i].history['accuracy'], label='Treino')\n",
    "    ax.plot(historico[i].history['val_accuracy'], label='Validação')\n",
    "    ax.set_xlabel('Épocas')\n",
    "    ax.set_ylabel('Acurácia')\n",
    "    ax.set_ylim(0, 1)\n",
    "    ax.legend()\n",
    "\n",
    "plt.suptitle('Acurácia {}'.format(date))\n",
    "plt.savefig('Plots/%s' % arq)\n",
    "plt.tight_layout()"
   ]
  },
  {
   "cell_type": "code",
   "execution_count": null,
   "metadata": {},
   "outputs": [],
   "source": []
  }
 ],
 "metadata": {
  "kernelspec": {
   "display_name": "base",
   "language": "python",
   "name": "python3"
  },
  "language_info": {
   "codemirror_mode": {
    "name": "ipython",
    "version": 3
   },
   "file_extension": ".py",
   "mimetype": "text/x-python",
   "name": "python",
   "nbconvert_exporter": "python",
   "pygments_lexer": "ipython3",
   "version": "3.11.5"
  }
 },
 "nbformat": 4,
 "nbformat_minor": 2
}
